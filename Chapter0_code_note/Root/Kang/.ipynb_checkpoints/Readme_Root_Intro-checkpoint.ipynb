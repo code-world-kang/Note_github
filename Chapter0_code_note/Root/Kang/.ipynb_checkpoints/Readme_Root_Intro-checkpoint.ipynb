{
 "cells": [
  {
   "cell_type": "markdown",
   "metadata": {},
   "source": []
  },
  {
   "cell_type": "markdown",
   "metadata": {},
   "source": [
    "\n",
    "  "
   ]
  },
  {
   "cell_type": "markdown",
   "metadata": {},
   "source": [
    "# Root软件的简单介绍"
   ]
  },
  {
   "cell_type": "markdown",
   "metadata": {},
   "source": [
    "## 记本简介\n",
    "\n",
    "该笔记本是本人在北京大学博士后王东玺师兄的学习笔记的基础上进行的扩展及其总结，如有问题，请联系weikang21@stu.pku.edu.cn"
   ]
  },
  {
   "cell_type": "markdown",
   "metadata": {},
   "source": [
    "## 关于数据分析的教程"
   ]
  },
  {
   "cell_type": "markdown",
   "metadata": {},
   "source": [
    "北京大学实验核物理课题组root数据分析相关代码：\n",
    "\n",
    "   [与Root相关的数据分析代码](https://markdown.com.cn/basic-syntax/links.html)"
   ]
  },
  {
   "cell_type": "markdown",
   "metadata": {},
   "source": [
    "# 可执行文件的编写——makefile"
   ]
  },
  {
   "cell_type": "markdown",
   "metadata": {},
   "source": [
    "## 关于makefile的教程"
   ]
  },
  {
   "cell_type": "markdown",
   "metadata": {},
   "source": [
    "注意：在makefile文件重不能使用 `Tab` ,空格是空格，逗号是逗号"
   ]
  },
  {
   "cell_type": "markdown",
   "metadata": {},
   "source": [
    "ROOTCFLAGS、ROOTLIBS、ROOTGLIBS是编译和链接ROOT环境的必要语句。\n",
    "`OBJ`=程序编译后的名字"
   ]
  },
  {
   "cell_type": "markdown",
   "metadata": {},
   "source": [
    "<font color=red> makefile的重要性</font>:\n",
    "\n",
    "    关系到了整个工程的编译规则。一个工程中的源文件不计数，其按类型、功能、模块分别放在若干个目录中，makefile定义了一系列的规则来指定，哪些文件需要先编译，哪些文件需要后编译，哪些文件需要重新编译，甚至于进行更复杂的功能操作，因为makefile就像一个Shell脚本一样，其中也可以执行操作系统的命令。\n",
    "\n",
    "<font color=red> makefile的好处</font>:\n",
    "\n",
    "    自动化编译”，一旦写好，只需要一个make命令，整个工程完全自动编译，极大的提高了软件开发的效率.\n",
    "    命令工具，是一个解释makefile中指令的命令工具.\n"
   ]
  },
  {
   "cell_type": "markdown",
   "metadata": {},
   "source": [
    "### 关于程序的编译和链接\n",
    "    ·编译：将源文件编译成中间代码文件，即ObjectFile。\n",
    "        编译需要：\n",
    "            1、语法正确，只要语法正确，编译器就可以编译处中间目标文件\n",
    "            2、函数与变量声明正确。需要告诉编译器头文件的位置，头文件只是声明，定义需要放在C++的代码中。\n",
    "        原则上每个源文件都应该对应于一个中间目标文件\n",
    "    ·链接：将大量的ObjectFile合成为可执行文件\n",
    "        连接时，主要连接全局变量和函数。需要使用编译得到的中间目标文件ObjectFile来连接我们的应用程序，链接器并不管函数的源文件。只估计中间目标文件。当源文件太多时，编译产生的目标文件会变多，故而需要对其进行打包，在windows下叫做库文件(.lib),在unix下是ArchiveFile(.a)。\n",
    " \n",
    "<font color=red> 总结：首先源文件生成目标文件，然后目标文件生成可执行文件。\n",
    "    编译时，编译器检查语法，函数，变量是否声明。错误时会生成objectFile\n",
    "    链接时，会寻找所有ObjectFile中函数的实现，若找不到会出现LinlerError。\n",
    "    </font>"
   ]
  },
  {
   "cell_type": "markdown",
   "metadata": {},
   "source": [
    "### makefile的介绍\n",
    "    规则：\n",
    "        1、若工程没有编译，需要使得所有C文件都要被编译并链接\n",
    "        2、若工程中某些C文件被修改，则只编译所修改的文件，并链接目标程序\n",
    "        3、若工程中某些h文件被修改，则只编译使用该头文件的C文件\n",
    "    内容：target:prerequisites\n",
    "        command:(需要make执行的命令，shell命令)\n",
    "   即以上两部分，也就是说，target为目标文件，prerequisites为这一目标文件所以来的文件。生成规则在command中，（<font color=red>说白一点就是说，prerequisites中如果有一个以上的文件比target文件要新的话，command所定义的命令就会被执行。这就是Makefile的规则。也就是Makefile中最核心的内容</font>）\n",
    "       \n",
    "     具体语法： 1、反斜杠（\\）是换行符的意思。\n",
    "            2、生成可执行文件的步骤，make clean、make\n",
    "            3、在定义好依赖关系后，后续的一行定义了如何生成目标文件的操作命令，以TAB开头。\n",
    " 注意：make会比较targets文件和prerequisites文件的修改日期，如果prerequisites文件的日期要比targets文件的日期要新，或者target不存在的话，那么，make就会执行后续定义的命令。"
   ]
  },
  {
   "cell_type": "markdown",
   "metadata": {},
   "source": [
    "### makefile中有什么\n",
    "    1、显式规则。显式规则说明如何生成一个或多的的目标文件。由书写者明显指出，要生成的文件，文件的依赖文件，生成的命令。\n",
    "    2、隐晦规则。利用make有自动推导的功能，可以比较粗糙地简略地书写Makefile，这是由make所支持的。\n",
    "    3、变量的定义。在Makefile中要定义一系列的变量，变量一般都是字符串，这个有点像C语言中的宏，当Makefile被执行时，其中的变量都会被扩展到相应的引用位置上。\n",
    "    4、文件指示。包括了三个部分：\n",
    "        一个是在一个Makefile中引用另一个Makefile，就像C语言中的include一样；\n",
    "        另一个是指根据某些情况指定Makefile中的有效部分，就像C语言中的预编译#if一样；\n",
    "        还有就是定义一个多行的命令。\n",
    "    5、注释。Makefile中只有行注释，和UNIX的Shell脚本一样，要在Makefile中使用“#”字符，可以用“\\#”。\n",
    "主语：在Makefile中的命令，必须要以`Tab`键开始。"
   ]
  },
  {
   "cell_type": "markdown",
   "metadata": {},
   "source": [
    "### makefile的引用\n",
    "    像C语言的#include，被包含的文件会原模原样的放在当前文件的包含位置。\n",
    "        语法：include<filename>        //filename可以是当前操作系统Shell的文件模式（可以保含路径和通配符）\n",
    "    注意：include前不能有`TAB`,多个文件可以使用空格隔开，如\n",
    "        include foo.make *.mk$(bar)         //*为linux简写，当然也可不简写$\n",
    "    \n",
    "     make开始后，会寻找所有include包括的文件，当其找不到时，会在当前目录寻找。若依旧找不到，还会在下面目录寻找：\n",
    "        1.如果make执行时，有“-I”或“--include-dir”参数，那么make就会在这个参数所指定的目录下去寻找。\n",
    "        2.如果目录/include（一般是：/usr/local/bin或/usr/include）存在的话，make也会去找。\n",
    "     若找不到，会出现警告，然后继续载入其他文件\n",
    "   若不想去执行无法读取的文件，可在include前加-。如 `-include<filename>`\n",
    "    "
   ]
  },
  {
   "cell_type": "code",
   "execution_count": null,
   "metadata": {},
   "outputs": [],
   "source": []
  },
  {
   "cell_type": "code",
   "execution_count": null,
   "metadata": {},
   "outputs": [],
   "source": []
  },
  {
   "cell_type": "markdown",
   "metadata": {},
   "source": [
    "### make如何工作"
   ]
  },
  {
   "cell_type": "markdown",
   "metadata": {},
   "source": []
  },
  {
   "cell_type": "markdown",
   "metadata": {},
   "source": []
  },
  {
   "cell_type": "markdown",
   "metadata": {},
   "source": []
  },
  {
   "cell_type": "markdown",
   "metadata": {},
   "source": [
    "## makefile 文件编写举例\n",
    "### makefile举例\n",
    "#### 例子一"
   ]
  },
  {
   "cell_type": "markdown",
   "metadata": {},
   "source": [
    "```\n",
    "    INCL=-I${HOME}/incl\n",
    "    BIN=$(HOME)/bin\n",
    "    OBJ1=hellocpp.o\n",
    "    OBJ2=hello.o          ##更多的变量\n",
    "\n",
    "    .SUFFIXES: .cpp .c         ##隐晦规则\n",
    "    .cpp.o:\n",
    "        g++ ${INCL} -c $<\n",
    "\n",
    "    .c.o:\n",
    "        gcc ${INCL} -c $<     ##c和c++的两个依赖\n",
    "\n",
    "    all: hellocpp hello\n",
    "\n",
    "    #C++编译\n",
    "    hellocpp:${OBJ1}         ##若目标是hellocpp，则执行\n",
    "        @echo \"============开始编译============\"\n",
    "        g++ -o $@ $?        ## $?表示所有依赖，即hellocpp.cpp,若依赖多个文件，则全部带上\n",
    "        @rm -f ${OBJ1}\n",
    "        @mv $@ ${BIN}\n",
    "        @echo \"============编译结束============\"\n",
    "        @echo \"\"\n",
    " ```"
   ]
  },
  {
   "cell_type": "markdown",
   "metadata": {},
   "source": [
    "#### 终极版举例\n",
    "    #########################################################################\n",
    "    ####\t\t\t\t\t\t\t\t\t\t\t\t\t\t\t    ####\n",
    "    ####            \tMakefile文件：适用于root程序\t\t\t   ####\n",
    "    ####\t\t\t\t\t\t\t\t\t\t\t\t\t\t\t\t ####\n",
    "    ####\t\t\t\t\t作者：北京大学 21级博士生魏康\t\t\t\t####\n",
    "    ####\t\t\t\t\t\t\t\t\t\t\t\t\t\t\t\t ####\n",
    "    ####               编写时间：2022.03.31\t\t\t\t\t\t ####\n",
    "    ####\t\t\t\t\t\t\t\t\t\t\t\t\t\t\t\t ####\n",
    "    #########################################################################\n",
    "    #—————————————————————————————————————————————————————————\n",
    "    ######################第一步：初始参量写在这个地方#########################\n",
    "    #目标文件，可添加更多变量\n",
    "    ObjectFile = Tracking\n",
    "    #ObjectFile1 = Mapping\n",
    "    #ObjectFile2 = Energy\n",
    "\n",
    "    #主文件，主程序\n",
    "    MainFile = main.cpp\n",
    "\n",
    "    #————————————————————————————————————————————————————————\n",
    "    #######################第二步：编译文件位置写在这个地方####################\n",
    "\n",
    "    #编译程序文件路径：这里的东西即寻找所有需要编译链接的程序文件，主要是c文件，需要将所有的c文件写在这里\n",
    "    #其中，wildcard为扩展通配符，：=为赋值语句\n",
    "    SourceFile := $(wildcard $(shell pwd)/src/*.c $(shell pwd)/src/*.cc $(shell pwd)/src/*.cpp $(shell pwd)/src/*.C $(shell pwd)/src/*.cxx)\n",
    "\n",
    "    #编译头文件路径：这里需要将所有的头文件全部写出来\n",
    "    IncludeFile := $(wildcard $(shell pwd)/include/*.h $(shell pwd)/include/*.hh $(shell pwd)/include/*.hpp)\n",
    "\n",
    "\n",
    "    #————————————————————————————————————————————————————————\n",
    "    ######################第三步：链接外部库函数，这里主要是root###############\n",
    "    #Cern Root必须链接的三个库：cflags、libs、glibs,外部链接库\n",
    "    ROOTCFLAGS  = $(shell root-config --cflags)\n",
    "    ROOTLIBS    = $(shell root-config --libs)\n",
    "    ROOTGLIBS   = $(shell root-config --glibs)\n",
    "    ROOTLDFLAGS  := $(shell root-config --ldflags)\n",
    "\n",
    "\n",
    "    #—————————————————————————————————————————————————————————\n",
    "    ######################第四步：编译器的选择###############################\n",
    "    GXX = g++\n",
    "    CXX = g++\n",
    "    # 寻找目录，—I指定寻找顺序，当前目录>usr/include>local/include\n",
    "    DIR_INC = -I$(ROOTSYS)/include -I$(shell pwd)/include\n",
    "    #指定头文件（.h文件）的路径\n",
    "    CFLAGS = -Wall -O2 $(Root_cflags) $(DIR_INC)\n",
    "    #告诉链接器要链接哪些库文件，O2为优化参数等级\n",
    "    LIBS = $(ROOTCFLAGS) $(ROOTGLIBS) $(ROOTLIBS) $(ROOTLDFLAGS) -lSpectrum #添加相关的root链接库\n",
    "    #ROOTCFLAGS十分重要，不能缺少，其他两个不能丢\n",
    "\n",
    "\n",
    "    #——————————————————————————————————————————————————————————\n",
    "    ####################第五步：最终目的####################################\n",
    "    all:$(ObjectFile)\n",
    "    $(ObjectFile): $(MainFile) $(SourceFile)        ##若目标是ObjecFile，则开始执行\n",
    "        $(GXX) $(CFLAGS) -o $@ $(MainFile) $(SourceFile) $(LIBS)\n",
    "        @echo \"_______________________开始编译______________________________\"\n",
    "        @echo \"                      $@ done                              \"\n",
    "        @echo \"请开始您的表演，因为您的make已经编译成功了，加油！\"\n",
    "        @echo \"______________________编译结束_______________________________\"\n",
    "\n",
    "    #——————————————————————————————————————————————————————\n",
    "    ##################第六步，清除产生的可执行文件###################################################\n",
    "    #.PHONY意思表示clean是一个“伪目标”，。而在rm命令前面加了一个小减号的意思就是，也许某些文件出现问题，但不要管，继续做后面的事。\n",
    "    .PHONY : clean\n",
    "    clean:\n",
    "        -rm -f *.o *.d $(ObjectFile)\n",
    "        @echo \"移除$@ 文件成功，请您进行下一步操作，即make -j4，祝顺利！ \"\n",
    "    #———————————————————————已完成相关的操作—————————————————————\n",
    "\n",
    " "
   ]
  },
  {
   "cell_type": "markdown",
   "metadata": {},
   "source": [
    "### 伪目标的编写\n",
    "有点像利用利用makefile文件执行终端命令\n",
    "    例子：使用方法make clean\n",
    "        \n",
    "        clean:\n",
    "        rm -rf *.o math.exe  ##移除生成的math.exe文件\n",
    "        #rm -f *.o *.d $(OBJ)   ##root中可以使用该命令$\n",
    "    "
   ]
  },
  {
   "cell_type": "markdown",
   "metadata": {},
   "source": [
    "### 书写命令\n",
    "    1、每条规则中的命令和操作系统Shell的命令行是一致的。make会一按顺序一条一条的执行命令\n",
    "    2、每条命令的开头必须以[Tab]键开头，除非，命令是紧跟在依赖规则后面的分号后的。\n",
    "    3、在命令行之间中的空格或是空行会被忽略，但是如果该空格或空行是以Tab键开头的，那么make会认为其是一个空命令。\n",
    "    4、我们在UNIX下可能会使用不同的Shell，但是make的命令默认是被“/bin/sh”——UNIX的标准Shell解释执行的。除非你特别指定一个其它的Shell。\n",
    "    5、Makefile中，“#”是注释符，很像C/C++中的“//”，其后的本行字符都被注释。\n",
    "**显示命令**\n",
    "\n",
    "    1、make会把其要执行的命令行在命令执行前输出到屏幕上。当我们用“@”字符在命令行前，那么，这个命令将不被make显示出来。\n",
    "    2、make执行时，带入make参数“-n”或“--just-print”，那么其只是显示命令，但不会执行命令，这个功能很有利于我们调试我们的Makefile，看看我们书写的命令是执行起来是什么样子的或是什么顺序的。\n",
    "    3、make参数“-s”或“--slient”则是全面禁止命令的显示。\n",
    "**命令执行**\n",
    "    \n",
    "    如果你要让上一条命令的结果应用在下一条命令时，你应该使用分号分隔这两条命令。如 cd/home/hchen;pwd\n",
    "**命令出错**\n",
    "    \n",
    "    忽略命令的出错，我们可以在Makefile的命令行前加一个减号“-”（在Tab键之后），标记为不管命令出不出错都认为是成功的。如：\n",
    "    clean:\n",
    "    -rm-f *.o\n",
    "    "
   ]
  },
  {
   "cell_type": "markdown",
   "metadata": {},
   "source": [
    "### 常用函数\n",
    "**函数调用**\n",
    "\n",
    "       很像变量的使用，也是以“$”来标识的，其语法如下：\n",
    "       $(<function><arguments>)或是:${<function><arguments>}\n",
    "        注意：<function>就是函数名，make支持的函数不多。\n",
    "            <arguments>是函数的参数，参数间以逗号“,”分隔，\n",
    "            而函数名和参数之间以“空格”分隔。\n",
    "            函数调用以“$”开头，以圆括号或花括号把函数名和参数括起。\n",
    "\n",
    "**字符串处理函数**\n",
    "\n",
    "    subst:$(subst <from>,<to>,<text>)\n",
    "        把字串<text>中的<from>字符串替换成<to>,函数返回被替换过后的字符串$\n",
    "    patsubst:$(patsubst <pattern>,<replacement>,<text>)   \n",
    "          查找<text>中的单词（单词以“空格”、“Tab”或“回车”“换行”分隔）是否符合模式<pattern>，如果匹配的话，则以<replacement>替换$\n",
    "     strip:$(strip <string>)\n",
    "           去掉<string>字串中开头和结尾的空字符。返回：返回被去掉空格的字符串值$\n",
    "\n",
    "此外：还有过滤函数，排序函数，取单词函数，取单词串函数，取文件名操作函数`$(dir <names...>)` 取文件函数，取前后缀函数，连接函数。循环函数：`$(foreach<var>,<list>`,<text>) ,if函数：`$(if<condition>,<then-part>)` call函数（创建新的参数），origin函数（查询来源），shell函数（参数是shell的命令）\n",
    "     \n",
    "其余详细可参考[关于makefile函数的定义节](https://blog.csdn.net/xiaoshuai537/article/details/79340153)     "
   ]
  },
  {
   "cell_type": "markdown",
   "metadata": {},
   "source": [
    "### make 的后缀\n",
    "    make -j5 多线程使用\n",
    "    make -h/--help 帮助\n",
    "### 关于编译器\n",
    "    c语言：默认命令cc->CXX,编译参数CXXFLAGS\n",
    "    c++语言：默认命令g++->CO，编译参数COFLAGS\n",
    "    "
   ]
  },
  {
   "cell_type": "markdown",
   "metadata": {},
   "source": [
    "# Root绘图操作"
   ]
  },
  {
   "cell_type": "markdown",
   "metadata": {},
   "source": [
    "## Root拟合"
   ]
  },
  {
   "cell_type": "markdown",
   "metadata": {},
   "source": [
    "### 定义函数拟合的方法"
   ]
  },
  {
   "cell_type": "code",
   "execution_count": null,
   "metadata": {},
   "outputs": [],
   "source": []
  },
  {
   "cell_type": "markdown",
   "metadata": {},
   "source": [
    "### 多高斯拟合"
   ]
  },
  {
   "cell_type": "markdown",
   "metadata": {},
   "source": [
    "### 自动寻峰操作"
   ]
  },
  {
   "cell_type": "markdown",
   "metadata": {},
   "source": [
    "# 一些Root的基本操作"
   ]
  },
  {
   "cell_type": "markdown",
   "metadata": {},
   "source": [
    "## TTree的使用"
   ]
  },
  {
   "cell_type": "markdown",
   "metadata": {},
   "source": [
    "## TCut的使用"
   ]
  },
  {
   "cell_type": "markdown",
   "metadata": {},
   "source": [
    "# 四、其他"
   ]
  },
  {
   "cell_type": "code",
   "execution_count": null,
   "metadata": {},
   "outputs": [],
   "source": []
  },
  {
   "cell_type": "code",
   "execution_count": null,
   "metadata": {},
   "outputs": [],
   "source": []
  },
  {
   "cell_type": "code",
   "execution_count": null,
   "metadata": {},
   "outputs": [],
   "source": []
  },
  {
   "cell_type": "code",
   "execution_count": null,
   "metadata": {},
   "outputs": [],
   "source": []
  },
  {
   "cell_type": "code",
   "execution_count": null,
   "metadata": {},
   "outputs": [],
   "source": []
  },
  {
   "cell_type": "code",
   "execution_count": 1,
   "metadata": {},
   "outputs": [
    {
     "name": "stdout",
     "output_type": "stream",
     "text": [
      "[NbConvertApp] Converting notebook Readme_Root_Intro.ipynb to html\n",
      "\n",
      "[NbConvertApp] Writing 292985 bytes to Readme_Root_Intro.html\n",
      "\n"
     ]
    }
   ],
   "source": [
    "!jupyter nbconvert Readme_Root_Intro.ipynb --to html"
   ]
  }
 ],
 "metadata": {
  "kernelspec": {
   "display_name": "ROOT C++",
   "language": "c++",
   "name": "root"
  },
  "language_info": {
   "codemirror_mode": "text/x-c++src",
   "file_extension": ".C",
   "mimetype": " text/x-c++src",
   "name": "c++"
  },
  "toc": {
   "base_numbering": 1,
   "nav_menu": {},
   "number_sections": true,
   "sideBar": true,
   "skip_h1_title": false,
   "title_cell": "Table of Contents",
   "title_sidebar": "Contents",
   "toc_cell": false,
   "toc_position": {
    "height": "calc(100% - 180px)",
    "left": "10px",
    "top": "150px",
    "width": "164.988px"
   },
   "toc_section_display": true,
   "toc_window_display": true
  }
 },
 "nbformat": 4,
 "nbformat_minor": 2
}
